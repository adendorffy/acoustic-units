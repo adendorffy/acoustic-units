{
 "cells": [
  {
   "cell_type": "code",
   "execution_count": 14,
   "metadata": {},
   "outputs": [
    {
     "name": "stdout",
     "output_type": "stream",
     "text": [
      "🔢 Number of entries where all phones are filler: 8885\n",
      "Total non-silence words: 56955\n"
     ]
    }
   ],
   "source": [
    "import pandas as pd\n",
    "\n",
    "# Load your CSV\n",
    "df = pd.read_csv(\"output/alignments_aligned_to_features.csv\")\n",
    "\n",
    "\n",
    "# Define set of filler phones\n",
    "filler_phones = {\"sil\", \"sp\", \"spn\"}\n",
    "\n",
    "\n",
    "# Function to check if all phones in a row are filler\n",
    "def is_all_filler(phones_str):\n",
    "    if pd.isna(phones_str):\n",
    "        return False\n",
    "    phones = [ph.strip() for ph in phones_str.split(\" \")]\n",
    "    return all(ph in filler_phones for ph in phones)\n",
    "\n",
    "\n",
    "# Apply the function across the dataframe\n",
    "all_filler_mask = df[\"phones\"].apply(is_all_filler)\n",
    "\n",
    "# Count how many\n",
    "num_all_filler = all_filler_mask.sum()\n",
    "\n",
    "print(f\"🔢 Number of entries where all phones are filler: {num_all_filler}\")\n",
    "print(f\"Total non-silence words: {len(df['phones']) - num_all_filler}\")"
   ]
  }
 ],
 "metadata": {
  "kernelspec": {
   "display_name": ".env",
   "language": "python",
   "name": "python3"
  },
  "language_info": {
   "codemirror_mode": {
    "name": "ipython",
    "version": 3
   },
   "file_extension": ".py",
   "mimetype": "text/x-python",
   "name": "python",
   "nbconvert_exporter": "python",
   "pygments_lexer": "ipython3",
   "version": "3.12.3"
  }
 },
 "nbformat": 4,
 "nbformat_minor": 2
}
