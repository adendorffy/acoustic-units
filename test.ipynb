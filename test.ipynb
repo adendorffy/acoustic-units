{
 "cells": [
  {
   "cell_type": "code",
   "execution_count": 2,
   "metadata": {},
   "outputs": [],
   "source": [
    "import pandas as pd\n",
    "from pathlib import Path\n",
    "\n",
    "align_df = pd.read_csv(Path(\"librispeech/alignments/dev-clean/\")/\"alignments.csv\")"
   ]
  },
  {
   "cell_type": "code",
   "execution_count": null,
   "metadata": {},
   "outputs": [],
   "source": [
    "# filter out where 'text' == NAN\n",
    "align_df = align_df[align_df[\"text\"].notna()]\n",
    "# filter out where 'text' == \"<unk>\"\"\n",
    "align_df = align_df[align_df[\"text\"] != \"<unk>\"]\n",
    "\n",
    "# Group alignments by text \n",
    "grouped = align_df.groupby(\"text\")"
   ]
  },
  {
   "cell_type": "code",
   "execution_count": null,
   "metadata": {},
   "outputs": [
    {
     "name": "stdout",
     "output_type": "stream",
     "text": [
      "a\n",
      "2412-153954-0007 5.35 5.43 a\n",
      "2412-153954-0024 2.77 2.83 a\n",
      "2412-153954-0000 3.51 3.57 a\n",
      "2412-153954-0018 9.46 9.55 a\n",
      "2412-153954-0013 0.93 0.99 a\n",
      "2412-153954-0004 2.77 2.84 a\n"
     ]
    }
   ],
   "source": [
    "for group in grouped:\n",
    "    print(group[0])\n",
    "    elements = []\n",
    "    for i, file in enumerate(group[1].iterrows()):\n",
    "        if i > 5:\n",
    "            break\n",
    "        speaker = file[1]['filename'].split(\"/\")[0]\n",
    "        word_start = float(file[1]['word_start'])\n",
    "        word_end = float(file[1]['word_end'])\n",
    "        word = file[1]['text']\n",
    "        element = (speaker, word_start, word_end, word)\n",
    "        elements.append(element)\n",
    "        print(f\"{speaker} {word_start} {word_end} {word}\")\n",
    "    break\n",
    "\n"
   ]
  }
 ],
 "metadata": {
  "kernelspec": {
   "display_name": ".venv",
   "language": "python",
   "name": "python3"
  },
  "language_info": {
   "codemirror_mode": {
    "name": "ipython",
    "version": 3
   },
   "file_extension": ".py",
   "mimetype": "text/x-python",
   "name": "python",
   "nbconvert_exporter": "python",
   "pygments_lexer": "ipython3",
   "version": "3.12.8"
  }
 },
 "nbformat": 4,
 "nbformat_minor": 2
}
