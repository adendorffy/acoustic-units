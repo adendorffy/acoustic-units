{
 "cells": [
  {
   "cell_type": "code",
   "execution_count": 43,
   "metadata": {},
   "outputs": [
    {
     "name": "stdout",
     "output_type": "stream",
     "text": [
      "Loading 65840 Features..\n"
     ]
    }
   ],
   "source": [
    "from pathlib import Path\n",
    "import numpy as np\n",
    "\n",
    "feat_dir = Path(\"my-features\")\n",
    "model = \"wavlm_base\"\n",
    "layer = 12\n",
    "\n",
    "feature_dir = feat_dir / model.upper() / str(layer)\n",
    "\n",
    "paths = sorted(feature_dir.rglob(\"**/*.npy\"), key=lambda x: int(x.stem.split(\"_\")[-1]))\n",
    "sample_size = len(paths)\n",
    "\n",
    "print(f\"Loading {sample_size} Features..\", flush=True)\n",
    "features = [np.load(path) for path in paths]"
   ]
  },
  {
   "cell_type": "code",
   "execution_count": 44,
   "metadata": {},
   "outputs": [],
   "source": [
    "import pandas as pd\n",
    "\n",
    "align_df = pd.read_csv(\"librispeech/alignments/alignments.csv\")"
   ]
  },
  {
   "cell_type": "code",
   "execution_count": null,
   "metadata": {},
   "outputs": [],
   "source": [
    "def clean_feature(feature):\n",
    "    sil = [\n",
    "        18,\n",
    "        88,\n",
    "        50,\n",
    "        71,\n",
    "        96,\n",
    "        95,\n",
    "        94,\n",
    "        75,\n",
    "        44,\n",
    "        61,\n",
    "        42,\n",
    "        66,\n",
    "        92,\n",
    "        50,\n",
    "        52,\n",
    "        72,\n",
    "        65,\n",
    "        34,\n",
    "        9,\n",
    "        19,\n",
    "        43,\n",
    "        0,\n",
    "        45,\n",
    "        39,\n",
    "        90,\n",
    "        2,\n",
    "        63,\n",
    "        65,\n",
    "        97,\n",
    "        90,\n",
    "        11,\n",
    "        78,\n",
    "        8,\n",
    "        78,\n",
    "        93,\n",
    "        49,\n",
    "    ]\n",
    "    while len(feature) > 0 and feature[0] in sil:\n",
    "        feature = feature[1:]\n",
    "    while len(feature) > 0 and feature[-1] in sil:\n",
    "        feature = feature[:-1]\n",
    "\n",
    "    return feature"
   ]
  },
  {
   "cell_type": "code",
   "execution_count": 63,
   "metadata": {},
   "outputs": [],
   "source": [
    "import numpy as np\n",
    "import itertools\n",
    "import editdistance\n",
    "\n",
    "\n",
    "def normalized_edit_distance(sequences):\n",
    "    pairs = list(itertools.combinations(sequences, 2))\n",
    "    if not pairs:\n",
    "        return 0.0\n",
    "\n",
    "    dists = []\n",
    "    for a, b in pairs:\n",
    "        dist = editdistance.eval(a, b)\n",
    "        norm = dist / max(len(a), len(b))\n",
    "        dists.append(norm)\n",
    "\n",
    "    return np.mean(dists)\n"
   ]
  },
  {
   "cell_type": "code",
   "execution_count": null,
   "metadata": {},
   "outputs": [],
   "source": [
    "import numpy as np\n",
    "\n",
    "\n",
    "def lcs_length(a, b):\n",
    "    # Classic dynamic programming for LCS\n",
    "    dp = [[0] * (len(b) + 1) for _ in range(len(a) + 1)]\n",
    "    for i in range(len(a)):\n",
    "        for j in range(len(b)):\n",
    "            if a[i] == b[j]:\n",
    "                dp[i + 1][j + 1] = dp[i][j] + 1\n",
    "            else:\n",
    "                dp[i + 1][j + 1] = max(dp[i][j + 1], dp[i + 1][j])\n",
    "    return dp[-1][-1]\n",
    "\n",
    "\n",
    "def normalized_lcs_distance(sequences):\n",
    "    pairs = list(itertools.combinations(sequences, 2))\n",
    "    if not pairs:\n",
    "        return 0.0\n",
    "\n",
    "    dists = []\n",
    "    for a, b in pairs:\n",
    "        lcs = lcs_length(a, b)\n",
    "        norm_dist = 1 - (lcs / max(len(a), len(b)))\n",
    "        dists.append(norm_dist)\n",
    "\n",
    "    return np.mean(dists)"
   ]
  },
  {
   "cell_type": "code",
   "execution_count": 101,
   "metadata": {},
   "outputs": [
    {
     "name": "stdout",
     "output_type": "stream",
     "text": [
      "wine            | [54  7 25 77 37  3 23 39 65]\n",
      "wine            | [54  7 25 77 37 68 23 90]\n",
      "wine            | [78 54  7 25 77 37 45 23]\n",
      "wine            | [54  7 25 77 37 68 67 65]\n",
      "wine            | [93 54  7 35 25 77 37  3 23 61]\n",
      "wine            | [54  7 25 77 37  3 67]\n",
      "wine            | [43 49 54  7 25 77 37 67 65]\n",
      "wine            | [54  7 35 25 77 37  3 45 23 67 65]\n",
      "wine            | [43 54  7 25 77 37  3 67  2]\n",
      "wine            | [43 54  7 35 25 77 37  3 67]\n",
      "wine            | [54  7 25 77 37  3 45 23 90]\n",
      "wine            | [11 54  7 35 25 77 37  3  8 23 63]\n",
      "wine            | [54  7 35 25 77 37  3 67 65 97]\n",
      "wine            | [54  7 77 37  3 23 90]\n"
     ]
    }
   ],
   "source": [
    "count = 0\n",
    "codes = []\n",
    "for i, path in enumerate(paths):\n",
    "    align = align_df[align_df[\"filename\"] == path.stem.split(\"_\")[0]]\n",
    "    align = align[align[\"word_id\"] == int(path.stem.split(\"_\")[-1])]\n",
    "    align = align.iloc[0]\n",
    "    if str(align[\"text\"]) not in [\"wine\"]:\n",
    "        continue\n",
    "    count += 1\n",
    "    print(f\"{align['text']:<15} | {clean_feature(features[i])}\", flush=True)\n",
    "    codes.append(clean_feature(features[i]))\n",
    "    if count == 20:\n",
    "        break\n"
   ]
  },
  {
   "cell_type": "code",
   "execution_count": null,
   "metadata": {},
   "outputs": [
    {
     "name": "stdout",
     "output_type": "stream",
     "text": [
      "NED for 'what': 37.244%\n",
      "Normalized LCS Distance: 32.539%\n"
     ]
    }
   ],
   "source": [
    "ned = normalized_edit_distance(codes)\n",
    "print(f\"NED for 'what': {ned * 100:.3f}%\")\n",
    "\n",
    "ned_lcs = normalized_lcs_distance(codes)\n",
    "print(f\"Normalized LCS Distance: {ned_lcs * 100:.3f}%\")"
   ]
  }
 ],
 "metadata": {
  "kernelspec": {
   "display_name": ".env",
   "language": "python",
   "name": "python3"
  },
  "language_info": {
   "codemirror_mode": {
    "name": "ipython",
    "version": 3
   },
   "file_extension": ".py",
   "mimetype": "text/x-python",
   "name": "python",
   "nbconvert_exporter": "python",
   "pygments_lexer": "ipython3",
   "version": "3.12.3"
  }
 },
 "nbformat": 4,
 "nbformat_minor": 2
}
