{
 "cells": [
  {
   "cell_type": "code",
   "execution_count": 9,
   "metadata": {},
   "outputs": [],
   "source": [
    "from pathlib import Path\n",
    "from utils.features import DataSet\n",
    "\n",
    "name = \"librispeech-dev-clean\"\n",
    "in_dir = Path(\"data/dev-clean\")\n",
    "align_dir = Path(\"data/alignments/dev-clean\")\n",
    "feat_dir = Path(\"features\")\n",
    "audio_ext = \".flac\" \n",
    "\n",
    "dataset = DataSet(\n",
    "    name, in_dir, align_dir, feat_dir, audio_ext \n",
    ")\n",
    "\n",
    "wav_paths = list(dataset.in_dir.rglob(f\"**/*{dataset.audio_ext}\"))"
   ]
  },
  {
   "cell_type": "code",
   "execution_count": null,
   "metadata": {},
   "outputs": [],
   "source": [
    "import torch\n",
    "import torchaudio\n",
    "from tqdm import tqdm\n",
    "from webrtcvad import Vad\n",
    "import struct\n",
    "import numpy as np\n",
    "import torch.nn.functional as F\n",
    "import pandas as pd\n",
    "\n",
    "\n",
    "INT16_MAX = (2**15) - 1\n",
    "hop_length = 320\n",
    "sample_rate = 16000\n"
   ]
  },
  {
   "cell_type": "code",
   "execution_count": 3,
   "metadata": {},
   "outputs": [],
   "source": [
    "def mark_sil(vad, wav):\n",
    "    wav = F.pad(wav, (40, 40))\n",
    "    wav = wav[:, : wav.size(-1) - (wav.size(-1) % hop_length)]\n",
    "\n",
    "    pcm = struct.pack(\n",
    "        \"%dh\" % wav.size(-1),\n",
    "        *(np.round(wav.squeeze().numpy() * INT16_MAX)).astype(np.int16),\n",
    "    )\n",
    "\n",
    "    flags = []\n",
    "    for window_start in range(0, wav.size(-1), hop_length):\n",
    "        window_end = window_start + hop_length\n",
    "        flag = vad.is_speech(pcm[window_start * 2 : window_end * 2], sample_rate)\n",
    "        flags.append(flag)\n",
    "    return flags"
   ]
  },
  {
   "cell_type": "code",
   "execution_count": 4,
   "metadata": {},
   "outputs": [
    {
     "name": "stderr",
     "output_type": "stream",
     "text": [
      "Using cache found in /home/danel/.cache/torch/hub/bshall_dusted_main\n",
      "Using cache found in /home/danel/.cache/torch/hub/bshall_dusted_main\n",
      "Using cache found in /home/danel/.cache/torch/hub/bshall_hubert_main\n"
     ]
    }
   ],
   "source": [
    "kmeans, segment = torch.hub.load(\n",
    "    \"bshall/dusted:main\", \"kmeans\", language=\"english\", trust_repo=True\n",
    ")\n",
    "\n",
    "hubert, encode = torch.hub.load(\n",
    "    \"bshall/dusted:main\", \"hubert\", language=\"english\", trust_repo=True\n",
    ")"
   ]
  },
  {
   "cell_type": "code",
   "execution_count": 6,
   "metadata": {},
   "outputs": [],
   "source": [
    "def get_dusted_units(\n",
    "    dataset,\n",
    "    wav,\n",
    "    hubert,\n",
    "    encode,\n",
    "    segment,\n",
    "    kmeans,\n",
    "    wav_path,\n",
    "    gamma=0.2,\n",
    "    layer=7,\n",
    "    save=False,\n",
    "):\n",
    "    encoding = encode(hubert, wav, layer)\n",
    "    codes, _ = segment(encoding, kmeans.cluster_centers_, gamma)\n",
    "    \n",
    "    if save:\n",
    "        out_path = (\n",
    "            dataset.feat_dir\n",
    "            / \"dusted_units\"\n",
    "            / str(gamma)\n",
    "            / wav_path.relative_to(dataset.in_dir).with_suffix(\".npy\")\n",
    "        )\n",
    "\n",
    "        out_path.parent.mkdir(parents=True, exist_ok=True)\n",
    "\n",
    "        np.save(out_path, codes)\n"
   ]
  },
  {
   "cell_type": "code",
   "execution_count": null,
   "metadata": {},
   "outputs": [],
   "source": [
    "vad = Vad()\n",
    "\n",
    "align_df = pd.read_csv(dataset.align_dir / \"alignments.csv\")\n",
    "\n",
    "for wav_path in tqdm(wav_paths, desc=\"Getting units\"):\n",
    "    wav, sr = torchaudio.load(str(wav_path))\n",
    "    wav = torchaudio.functional.resample(wav, sr, 16000)\n",
    "    wav = wav.unsqueeze(0)\n",
    "    get_dusted_units(dataset, wav, hubert, encode, segment, kmeans, wav_path, save=True)"
   ]
  }
 ],
 "metadata": {
  "kernelspec": {
   "display_name": ".env",
   "language": "python",
   "name": "python3"
  },
  "language_info": {
   "codemirror_mode": {
    "name": "ipython",
    "version": 3
   },
   "file_extension": ".py",
   "mimetype": "text/x-python",
   "name": "python",
   "nbconvert_exporter": "python",
   "pygments_lexer": "ipython3",
   "version": "3.12.3"
  }
 },
 "nbformat": 4,
 "nbformat_minor": 2
}
